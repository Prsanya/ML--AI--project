{
 "cells": [
  {
   "cell_type": "code",
   "execution_count": 1,
   "id": "7d9421cc",
   "metadata": {},
   "outputs": [],
   "source": [
    "import pandas as pd\n",
    "import numpy as np\n",
    "import matplotlib.pylab as plt \n",
    "import seaborn as sns\n",
    "from sklearn.model_selection import train_test_split\n",
    "from sklearn.feature_extraction.text import TfidfVectorizer\n",
    "from sklearn.linear_model import LogisticRegression\n",
    "from sklearn.naive_bayes import BernoulliNB\n",
    "from sklearn.svm import LinearSVC\n",
    "from sklearn.metrics import confusion_matrix, classification_report,accuracy_score"
   ]
  },
  {
   "cell_type": "markdown",
   "id": "b5c8695b",
   "metadata": {},
   "source": [
    "Read and Load the Dataset"
   ]
  },
  {
   "cell_type": "code",
   "execution_count": 2,
   "id": "733c73f1",
   "metadata": {},
   "outputs": [],
   "source": [
    "data=pd.read_csv(\"Tweet_NFT.csv\",names=[\"id\",\"text\",\"datetime\",\"intent\"],header=0)"
   ]
  },
  {
   "cell_type": "markdown",
   "id": "111fdd9f",
   "metadata": {},
   "source": [
    "Exploratory Data Analysis "
   ]
  },
  {
   "cell_type": "code",
   "execution_count": 3,
   "id": "eecece90",
   "metadata": {},
   "outputs": [
    {
     "data": {
      "text/html": [
       "<div>\n",
       "<style scoped>\n",
       "    .dataframe tbody tr th:only-of-type {\n",
       "        vertical-align: middle;\n",
       "    }\n",
       "\n",
       "    .dataframe tbody tr th {\n",
       "        vertical-align: top;\n",
       "    }\n",
       "\n",
       "    .dataframe thead th {\n",
       "        text-align: right;\n",
       "    }\n",
       "</style>\n",
       "<table border=\"1\" class=\"dataframe\">\n",
       "  <thead>\n",
       "    <tr style=\"text-align: right;\">\n",
       "      <th></th>\n",
       "      <th>id</th>\n",
       "      <th>text</th>\n",
       "      <th>datetime</th>\n",
       "      <th>intent</th>\n",
       "    </tr>\n",
       "  </thead>\n",
       "  <tbody>\n",
       "    <tr>\n",
       "      <th>0</th>\n",
       "      <td>1212762</td>\n",
       "      <td>@crypto_brody @eCoLoGy1990 @MoonrunnersNFT @It...</td>\n",
       "      <td>2022-08-06T16:56:36.000Z</td>\n",
       "      <td>Community</td>\n",
       "    </tr>\n",
       "    <tr>\n",
       "      <th>1</th>\n",
       "      <td>1212763</td>\n",
       "      <td>Need Sick Character artâ“#art #artist #Artist...</td>\n",
       "      <td>2022-08-06T16:56:36.000Z</td>\n",
       "      <td>Giveaway</td>\n",
       "    </tr>\n",
       "    <tr>\n",
       "      <th>2</th>\n",
       "      <td>1212765</td>\n",
       "      <td>@The_Hulk_NFT @INagotchiNFT @Tesla @killabears...</td>\n",
       "      <td>2022-08-06T16:56:35.000Z</td>\n",
       "      <td>Appreciation</td>\n",
       "    </tr>\n",
       "    <tr>\n",
       "      <th>3</th>\n",
       "      <td>1212766</td>\n",
       "      <td>@CryptoBatzNFT @DarekBTW The first project in ...</td>\n",
       "      <td>2022-08-06T16:56:35.000Z</td>\n",
       "      <td>Community</td>\n",
       "    </tr>\n",
       "    <tr>\n",
       "      <th>4</th>\n",
       "      <td>1212767</td>\n",
       "      <td>@sashadysonn The first project in crypto with ...</td>\n",
       "      <td>2022-08-06T16:56:34.000Z</td>\n",
       "      <td>Community</td>\n",
       "    </tr>\n",
       "  </tbody>\n",
       "</table>\n",
       "</div>"
      ],
      "text/plain": [
       "        id                                               text  \\\n",
       "0  1212762  @crypto_brody @eCoLoGy1990 @MoonrunnersNFT @It...   \n",
       "1  1212763  Need Sick Character artâ“#art #artist #Artist...   \n",
       "2  1212765  @The_Hulk_NFT @INagotchiNFT @Tesla @killabears...   \n",
       "3  1212766  @CryptoBatzNFT @DarekBTW The first project in ...   \n",
       "4  1212767  @sashadysonn The first project in crypto with ...   \n",
       "\n",
       "                   datetime        intent  \n",
       "0  2022-08-06T16:56:36.000Z     Community  \n",
       "1  2022-08-06T16:56:36.000Z      Giveaway  \n",
       "2  2022-08-06T16:56:35.000Z  Appreciation  \n",
       "3  2022-08-06T16:56:35.000Z     Community  \n",
       "4  2022-08-06T16:56:34.000Z     Community  "
      ]
     },
     "execution_count": 3,
     "metadata": {},
     "output_type": "execute_result"
    }
   ],
   "source": [
    "data.head()"
   ]
  },
  {
   "cell_type": "code",
   "execution_count": 4,
   "id": "f00c1254",
   "metadata": {},
   "outputs": [
    {
     "data": {
      "text/plain": [
       "0         @crypto_brody @eCoLoGy1990 @MoonrunnersNFT @It...\n",
       "1         Need Sick Character artâ“#art #artist #Artist...\n",
       "2         @The_Hulk_NFT @INagotchiNFT @Tesla @killabears...\n",
       "3         @CryptoBatzNFT @DarekBTW The first project in ...\n",
       "4         @sashadysonn The first project in crypto with ...\n",
       "                                ...                        \n",
       "127448    @Jason My company Universe is solving this, an...\n",
       "127449            @BosoTokyo Many will get rekt in this NFT\n",
       "127450    @leeneedham81 @KibaInuWorld @HODL_OFFICIAL @Ko...\n",
       "127451               @1kz3ro @UNLEASHED_NFT I love this job\n",
       "127452    @Shill_Ronin @UNLEASHED_NFT my proof https://t...\n",
       "Name: text, Length: 127453, dtype: object"
      ]
     },
     "execution_count": 4,
     "metadata": {},
     "output_type": "execute_result"
    }
   ],
   "source": [
    "data[\"text\"]"
   ]
  },
  {
   "cell_type": "code",
   "execution_count": 5,
   "id": "e607137d",
   "metadata": {},
   "outputs": [
    {
     "data": {
      "text/plain": [
       "(127453, 4)"
      ]
     },
     "execution_count": 5,
     "metadata": {},
     "output_type": "execute_result"
    }
   ],
   "source": [
    "data.shape"
   ]
  },
  {
   "cell_type": "code",
   "execution_count": 6,
   "id": "53a777f2",
   "metadata": {
    "scrolled": true
   },
   "outputs": [
    {
     "data": {
      "text/plain": [
       "id              0\n",
       "text            0\n",
       "datetime        0\n",
       "intent      31089\n",
       "dtype: int64"
      ]
     },
     "execution_count": 6,
     "metadata": {},
     "output_type": "execute_result"
    }
   ],
   "source": [
    "data.isnull().sum()"
   ]
  },
  {
   "cell_type": "code",
   "execution_count": 7,
   "id": "e5df98da",
   "metadata": {},
   "outputs": [
    {
     "data": {
      "text/plain": [
       "Community         41510\n",
       "Giveaway          21041\n",
       "Appreciation      16451\n",
       "Whitelist          8320\n",
       "Presale            5107\n",
       "Done               3049\n",
       "pinksale            477\n",
       "Interested          276\n",
       "Launching Soon      133\n",
       "Name: intent, dtype: int64"
      ]
     },
     "execution_count": 7,
     "metadata": {},
     "output_type": "execute_result"
    }
   ],
   "source": [
    "data[\"intent\"].value_counts()"
   ]
  },
  {
   "cell_type": "code",
   "execution_count": 8,
   "id": "8f396423",
   "metadata": {},
   "outputs": [
    {
     "name": "stdout",
     "output_type": "stream",
     "text": [
      "<class 'pandas.core.frame.DataFrame'>\n",
      "RangeIndex: 127453 entries, 0 to 127452\n",
      "Data columns (total 4 columns):\n",
      " #   Column    Non-Null Count   Dtype \n",
      "---  ------    --------------   ----- \n",
      " 0   id        127453 non-null  int64 \n",
      " 1   text      127453 non-null  object\n",
      " 2   datetime  127453 non-null  object\n",
      " 3   intent    96364 non-null   object\n",
      "dtypes: int64(1), object(3)\n",
      "memory usage: 3.9+ MB\n"
     ]
    }
   ],
   "source": [
    "data.info()"
   ]
  },
  {
   "cell_type": "markdown",
   "id": "eca64435",
   "metadata": {},
   "source": [
    "Checking the uniqueness of id"
   ]
  },
  {
   "cell_type": "code",
   "execution_count": 9,
   "id": "46095986",
   "metadata": {},
   "outputs": [
    {
     "data": {
      "text/plain": [
       "(127453,)"
      ]
     },
     "execution_count": 9,
     "metadata": {},
     "output_type": "execute_result"
    }
   ],
   "source": [
    "data[\"id\"].unique().shape"
   ]
  },
  {
   "cell_type": "markdown",
   "id": "4d443576",
   "metadata": {},
   "source": [
    "# Data Visualization"
   ]
  },
  {
   "cell_type": "code",
   "execution_count": 10,
   "id": "096ee55a",
   "metadata": {},
   "outputs": [
    {
     "data": {
      "text/plain": [
       "(array([0, 1, 2, 3, 4, 5, 6, 7, 8]),\n",
       " [Text(0, 0, 'Community'),\n",
       "  Text(1, 0, 'Giveaway'),\n",
       "  Text(2, 0, 'Appreciation'),\n",
       "  Text(3, 0, 'Presale'),\n",
       "  Text(4, 0, 'Whitelist'),\n",
       "  Text(5, 0, 'pinksale'),\n",
       "  Text(6, 0, 'Done'),\n",
       "  Text(7, 0, 'Interested'),\n",
       "  Text(8, 0, 'Launching Soon')])"
      ]
     },
     "execution_count": 10,
     "metadata": {},
     "output_type": "execute_result"
    },
    {
     "data": {
      "image/png": "[encoded data removed]",
      "text/plain": [
       "<Figure size 432x288 with 1 Axes>"
      ]
     },
     "metadata": {
      "needs_background": "light"
     },
     "output_type": "display_data"
    }
   ],
   "source": [
    "#visualize the intent \n",
    "\n",
    "sns.countplot(x='intent', data=data)\n",
    "plt.xticks(rotation=45)\n"
   ]
  },
  {
   "cell_type": "markdown",
   "id": "eba8d15a",
   "metadata": {},
   "source": [
    "Convert categorical column to codes"
   ]
  },
  {
   "cell_type": "code",
   "execution_count": 11,
   "id": "5ee790db",
   "metadata": {},
   "outputs": [],
   "source": [
    "data.intent=pd.Categorical(data.intent)\n",
    "data[\"intent\"]=data.intent.cat.codes"
   ]
  },
  {
   "cell_type": "code",
   "execution_count": 12,
   "id": "31dcd934",
   "metadata": {},
   "outputs": [
    {
     "data": {
      "text/html": [
       "<div>\n",
       "<style scoped>\n",
       "    .dataframe tbody tr th:only-of-type {\n",
       "        vertical-align: middle;\n",
       "    }\n",
       "\n",
       "    .dataframe tbody tr th {\n",
       "        vertical-align: top;\n",
       "    }\n",
       "\n",
       "    .dataframe thead th {\n",
       "        text-align: right;\n",
       "    }\n",
       "</style>\n",
       "<table border=\"1\" class=\"dataframe\">\n",
       "  <thead>\n",
       "    <tr style=\"text-align: right;\">\n",
       "      <th></th>\n",
       "      <th>id</th>\n",
       "      <th>text</th>\n",
       "      <th>datetime</th>\n",
       "      <th>intent</th>\n",
       "    </tr>\n",
       "  </thead>\n",
       "  <tbody>\n",
       "    <tr>\n",
       "      <th>0</th>\n",
       "      <td>1212762</td>\n",
       "      <td>@crypto_brody @eCoLoGy1990 @MoonrunnersNFT @It...</td>\n",
       "      <td>2022-08-06T16:56:36.000Z</td>\n",
       "      <td>1</td>\n",
       "    </tr>\n",
       "    <tr>\n",
       "      <th>1</th>\n",
       "      <td>1212763</td>\n",
       "      <td>Need Sick Character artâ“#art #artist #Artist...</td>\n",
       "      <td>2022-08-06T16:56:36.000Z</td>\n",
       "      <td>3</td>\n",
       "    </tr>\n",
       "    <tr>\n",
       "      <th>2</th>\n",
       "      <td>1212765</td>\n",
       "      <td>@The_Hulk_NFT @INagotchiNFT @Tesla @killabears...</td>\n",
       "      <td>2022-08-06T16:56:35.000Z</td>\n",
       "      <td>0</td>\n",
       "    </tr>\n",
       "    <tr>\n",
       "      <th>3</th>\n",
       "      <td>1212766</td>\n",
       "      <td>@CryptoBatzNFT @DarekBTW The first project in ...</td>\n",
       "      <td>2022-08-06T16:56:35.000Z</td>\n",
       "      <td>1</td>\n",
       "    </tr>\n",
       "    <tr>\n",
       "      <th>4</th>\n",
       "      <td>1212767</td>\n",
       "      <td>@sashadysonn The first project in crypto with ...</td>\n",
       "      <td>2022-08-06T16:56:34.000Z</td>\n",
       "      <td>1</td>\n",
       "    </tr>\n",
       "    <tr>\n",
       "      <th>...</th>\n",
       "      <td>...</td>\n",
       "      <td>...</td>\n",
       "      <td>...</td>\n",
       "      <td>...</td>\n",
       "    </tr>\n",
       "    <tr>\n",
       "      <th>127448</th>\n",
       "      <td>1278721</td>\n",
       "      <td>@Jason My company Universe is solving this, an...</td>\n",
       "      <td>2022-08-08T03:32:01.000Z</td>\n",
       "      <td>-1</td>\n",
       "    </tr>\n",
       "    <tr>\n",
       "      <th>127449</th>\n",
       "      <td>1278723</td>\n",
       "      <td>@BosoTokyo Many will get rekt in this NFT</td>\n",
       "      <td>2022-08-08T03:32:00.000Z</td>\n",
       "      <td>-1</td>\n",
       "    </tr>\n",
       "    <tr>\n",
       "      <th>127450</th>\n",
       "      <td>1278724</td>\n",
       "      <td>@leeneedham81 @KibaInuWorld @HODL_OFFICIAL @Ko...</td>\n",
       "      <td>2022-08-08T03:32:00.000Z</td>\n",
       "      <td>-1</td>\n",
       "    </tr>\n",
       "    <tr>\n",
       "      <th>127451</th>\n",
       "      <td>1278725</td>\n",
       "      <td>@1kz3ro @UNLEASHED_NFT I love this job</td>\n",
       "      <td>2022-08-08T03:31:59.000Z</td>\n",
       "      <td>-1</td>\n",
       "    </tr>\n",
       "    <tr>\n",
       "      <th>127452</th>\n",
       "      <td>1278729</td>\n",
       "      <td>@Shill_Ronin @UNLEASHED_NFT my proof https://t...</td>\n",
       "      <td>2022-08-08T03:31:58.000Z</td>\n",
       "      <td>-1</td>\n",
       "    </tr>\n",
       "  </tbody>\n",
       "</table>\n",
       "<p>127453 rows × 4 columns</p>\n",
       "</div>"
      ],
      "text/plain": [
       "             id                                               text  \\\n",
       "0       1212762  @crypto_brody @eCoLoGy1990 @MoonrunnersNFT @It...   \n",
       "1       1212763  Need Sick Character artâ“#art #artist #Artist...   \n",
       "2       1212765  @The_Hulk_NFT @INagotchiNFT @Tesla @killabears...   \n",
       "3       1212766  @CryptoBatzNFT @DarekBTW The first project in ...   \n",
       "4       1212767  @sashadysonn The first project in crypto with ...   \n",
       "...         ...                                                ...   \n",
       "127448  1278721  @Jason My company Universe is solving this, an...   \n",
       "127449  1278723          @BosoTokyo Many will get rekt in this NFT   \n",
       "127450  1278724  @leeneedham81 @KibaInuWorld @HODL_OFFICIAL @Ko...   \n",
       "127451  1278725             @1kz3ro @UNLEASHED_NFT I love this job   \n",
       "127452  1278729  @Shill_Ronin @UNLEASHED_NFT my proof https://t...   \n",
       "\n",
       "                        datetime  intent  \n",
       "0       2022-08-06T16:56:36.000Z       1  \n",
       "1       2022-08-06T16:56:36.000Z       3  \n",
       "2       2022-08-06T16:56:35.000Z       0  \n",
       "3       2022-08-06T16:56:35.000Z       1  \n",
       "4       2022-08-06T16:56:34.000Z       1  \n",
       "...                          ...     ...  \n",
       "127448  2022-08-08T03:32:01.000Z      -1  \n",
       "127449  2022-08-08T03:32:00.000Z      -1  \n",
       "127450  2022-08-08T03:32:00.000Z      -1  \n",
       "127451  2022-08-08T03:31:59.000Z      -1  \n",
       "127452  2022-08-08T03:31:58.000Z      -1  \n",
       "\n",
       "[127453 rows x 4 columns]"
      ]
     },
     "execution_count": 12,
     "metadata": {},
     "output_type": "execute_result"
    }
   ],
   "source": [
    "data"
   ]
  },
  {
   "cell_type": "code",
   "execution_count": 13,
   "id": "6cb28606",
   "metadata": {},
   "outputs": [
    {
     "data": {
      "text/plain": [
       " 1    41510\n",
       "-1    31089\n",
       " 3    21041\n",
       " 0    16451\n",
       " 7     8320\n",
       " 6     5107\n",
       " 2     3049\n",
       " 8      477\n",
       " 4      276\n",
       " 5      133\n",
       "Name: intent, dtype: int64"
      ]
     },
     "execution_count": 13,
     "metadata": {},
     "output_type": "execute_result"
    }
   ],
   "source": [
    "#codes assigned\n",
    "data[\"intent\"].value_counts()"
   ]
  },
  {
   "cell_type": "markdown",
   "id": "11ad0af0",
   "metadata": {},
   "source": [
    "# Data Preprocessing "
   ]
  },
  {
   "cell_type": "code",
   "execution_count": 14,
   "id": "937601b6",
   "metadata": {},
   "outputs": [
    {
     "data": {
      "text/plain": [
       "127448    @jason my company universe is solving this, an...\n",
       "127449            @bosotokyo many will get rekt in this nft\n",
       "127450    @leeneedham81 @kibainuworld @hodl_official @ko...\n",
       "127451               @1kz3ro @unleashed_nft i love this job\n",
       "127452    @shill_ronin @unleashed_nft my proof https://t...\n",
       "Name: text, dtype: object"
      ]
     },
     "execution_count": 14,
     "metadata": {},
     "output_type": "execute_result"
    }
   ],
   "source": [
    "data['text']=data['text'].str.lower()\n",
    "data['text'].tail()"
   ]
  },
  {
   "cell_type": "code",
   "execution_count": 15,
   "id": "dc701115",
   "metadata": {},
   "outputs": [],
   "source": [
    "stopwordlist = ['a', 'about', 'above', 'after', 'again', 'ain', 'all', 'am', 'an',\n",
    "             'and','any','are', 'as', 'at', 'be', 'because', 'been', 'before',\n",
    "             'being', 'below', 'between','both', 'by', 'can', 'd', 'did', 'do',\n",
    "             'does', 'doing', 'down', 'during', 'each','few', 'for', 'from',\n",
    "             'further', 'had', 'has', 'have', 'having', 'he', 'her', 'here',\n",
    "             'hers', 'herself', 'him', 'himself', 'his', 'how', 'i', 'if', 'in',\n",
    "             'into','is', 'it', 'its', 'itself', 'just', 'll', 'm', 'ma',\n",
    "             'me', 'more', 'most','my', 'myself', 'now', 'o', 'of', 'on', 'once',\n",
    "             'only', 'or', 'other', 'our', 'ours','ourselves', 'out', 'own', 're','s', 'same', 'she', \"shes\", 'should', \"shouldve\",'so', 'some', 'such',\n",
    "             't', 'than', 'that', \"thatll\", 'the', 'their', 'theirs', 'them',\n",
    "             'themselves', 'then', 'there', 'these', 'they', 'this', 'those',\n",
    "             'through', 'to', 'too','under', 'until', 'up', 've', 'very', 'was',\n",
    "             'we', 'were', 'what', 'when', 'where','which','while', 'who', 'whom',\n",
    "             'why', 'will', 'with', 'won', 'y', 'you', \"youd\",\"youll\", \"youre\",\n",
    "             \"youve\", 'your', 'yours', 'yourself', 'yourselves']"
   ]
  },
  {
   "cell_type": "markdown",
   "id": "3508ca5c",
   "metadata": {},
   "source": [
    "Cleaning and removing the above stop words list from the tweet text"
   ]
  },
  {
   "cell_type": "code",
   "execution_count": 16,
   "id": "e867d19a",
   "metadata": {},
   "outputs": [
    {
     "data": {
      "text/plain": [
       "0    @crypto_brody @ecology1990 @moonrunnersnft @it...\n",
       "1    need sick character artâ“#art #artist #artist...\n",
       "2    @the_hulk_nft @inagotchinft @tesla @killabears...\n",
       "3    @cryptobatznft @darekbtw first project crypto ...\n",
       "4    @sashadysonn first project crypto move earn #a...\n",
       "Name: text, dtype: object"
      ]
     },
     "execution_count": 16,
     "metadata": {},
     "output_type": "execute_result"
    }
   ],
   "source": [
    "STOPWORDS = set(stopwordlist)\n",
    "def cleaning_stopwords(text):\n",
    "    return \" \".join([word for word in str(text).split() if word not in STOPWORDS])\n",
    "data['text'] = data['text'].apply(lambda text: cleaning_stopwords(text))\n",
    "data['text'].head()"
   ]
  },
  {
   "cell_type": "markdown",
   "id": "fdf88bfa",
   "metadata": {},
   "source": [
    "Cleaning and removing punctuations"
   ]
  },
  {
   "cell_type": "code",
   "execution_count": 17,
   "id": "f1a50f79",
   "metadata": {},
   "outputs": [
    {
     "data": {
      "text/plain": [
       "0    cryptobrody ecology1990 moonrunnersnft itsukin...\n",
       "1    need sick character artâ“art artist artists a...\n",
       "2    thehulknft inagotchinft tesla killabearsnft el...\n",
       "3    cryptobatznft darekbtw first project crypto mo...\n",
       "4    sashadysonn first project crypto move earn ast...\n",
       "Name: text, dtype: object"
      ]
     },
     "execution_count": 17,
     "metadata": {},
     "output_type": "execute_result"
    }
   ],
   "source": [
    "import string\n",
    "english_punctuations = string.punctuation\n",
    "punctuations_list = english_punctuations\n",
    "def cleaning_punctuations(text):\n",
    "    translator = str.maketrans('', '', punctuations_list)\n",
    "    return text.translate(translator)\n",
    "data['text']= data['text'].apply(lambda x: cleaning_punctuations(x))\n",
    "data['text'].head()"
   ]
  },
  {
   "cell_type": "markdown",
   "id": "383f38a2",
   "metadata": {},
   "source": [
    "Cleaning and removing repeating characters"
   ]
  },
  {
   "cell_type": "code",
   "execution_count": 18,
   "id": "af788401",
   "metadata": {},
   "outputs": [],
   "source": [
    "import re"
   ]
  },
  {
   "cell_type": "code",
   "execution_count": 19,
   "id": "d8442c82",
   "metadata": {},
   "outputs": [
    {
     "data": {
      "text/plain": [
       "0    cryptobrody ecolog1990 moonrunnersnft itsukinf...\n",
       "1    need sick character artâ“art artist artists a...\n",
       "2    thehulknft inagotchinft tesla killabearsnft el...\n",
       "3    cryptobatznft darekbtw first project crypto mo...\n",
       "4    sashadysonn first project crypto move earn ast...\n",
       "Name: text, dtype: object"
      ]
     },
     "execution_count": 19,
     "metadata": {},
     "output_type": "execute_result"
    }
   ],
   "source": [
    "def cleaning_repeating_char(text):\n",
    "    return re.sub(r'(.)1+', r'1', text)\n",
    "data['text'] = data['text'].apply(lambda x: cleaning_repeating_char(x))\n",
    "data['text'].head()"
   ]
  },
  {
   "cell_type": "markdown",
   "id": "cc4427df",
   "metadata": {},
   "source": [
    " Cleaning and removing URL’s"
   ]
  },
  {
   "cell_type": "code",
   "execution_count": 20,
   "id": "8bd6701f",
   "metadata": {},
   "outputs": [
    {
     "data": {
      "text/plain": [
       "127448    jason company universe solving this weve got c...\n",
       "127449                          bosotokyo many get rekt nft\n",
       "127450    leeneedham1 kibainuworld hodlofficial koacomba...\n",
       "127451                         1kz3ro unleashednft love job\n",
       "127452     shillronin unleashednft proof httpstco44di9p2gz7\n",
       "Name: text, dtype: object"
      ]
     },
     "execution_count": 20,
     "metadata": {},
     "output_type": "execute_result"
    }
   ],
   "source": [
    "def cleaning_URLs(text):\n",
    "    return re.sub('((www.[^s]+)|(https?://[^s]+))',' ',text)\n",
    "data['text'] = data['text'].apply(lambda x: cleaning_URLs(x))\n",
    "data['text'].tail()"
   ]
  },
  {
   "cell_type": "markdown",
   "id": "84368c3b",
   "metadata": {},
   "source": [
    "Cleaning and removing Numeric numbers"
   ]
  },
  {
   "cell_type": "code",
   "execution_count": 21,
   "id": "72f9d44b",
   "metadata": {},
   "outputs": [
    {
     "data": {
      "text/plain": [
       "127448    jason company universe solving this weve got c...\n",
       "127449                          bosotokyo many get rekt nft\n",
       "127450    leeneedham kibainuworld hodlofficial koacombat...\n",
       "127451                           kzro unleashednft love job\n",
       "127452          shillronin unleashednft proof httpstcodipgz\n",
       "Name: text, dtype: object"
      ]
     },
     "execution_count": 21,
     "metadata": {},
     "output_type": "execute_result"
    }
   ],
   "source": [
    "def cleaning_numbers(data):\n",
    "    return re.sub('[0-9]+', '', data)\n",
    "data['text'] = data['text'].apply(lambda x: cleaning_numbers(x))\n",
    "data['text'].tail()"
   ]
  },
  {
   "cell_type": "markdown",
   "id": "c68a7145",
   "metadata": {},
   "source": [
    "Getting tokenization of tweet text"
   ]
  },
  {
   "cell_type": "code",
   "execution_count": 22,
   "id": "2a99d9c4",
   "metadata": {},
   "outputs": [
    {
     "data": {
      "text/plain": [
       "0    [cryptobrody, ecolog, moonrunnersnft, itsukinf...\n",
       "1    [need, sick, character, artâ, “art, artist, a...\n",
       "2    [thehulknft, inagotchinft, tesla, killabearsnf...\n",
       "3    [cryptobatznft, darekbtw, first, project, cryp...\n",
       "4    [sashadysonn, first, project, crypto, move, ea...\n",
       "Name: text, dtype: object"
      ]
     },
     "execution_count": 22,
     "metadata": {},
     "output_type": "execute_result"
    }
   ],
   "source": [
    "from nltk.tokenize import RegexpTokenizer\n",
    "tokenizer = RegexpTokenizer(r'\\w+|$[0-9]+|\\S+')\n",
    "data['text'] = data['text'].apply(tokenizer.tokenize)\n",
    "data['text'].head()"
   ]
  },
  {
   "cell_type": "markdown",
   "id": "90af50f1",
   "metadata": {},
   "source": [
    "Applying Stemming"
   ]
  },
  {
   "cell_type": "code",
   "execution_count": 23,
   "id": "8305b045",
   "metadata": {},
   "outputs": [
    {
     "data": {
      "text/plain": [
       "0    [cryptobrody, ecolog, moonrunnersnft, itsukinf...\n",
       "1    [need, sick, character, artâ, “art, artist, a...\n",
       "2    [thehulknft, inagotchinft, tesla, killabearsnf...\n",
       "3    [cryptobatznft, darekbtw, first, project, cryp...\n",
       "4    [sashadysonn, first, project, crypto, move, ea...\n",
       "Name: text, dtype: object"
      ]
     },
     "execution_count": 23,
     "metadata": {},
     "output_type": "execute_result"
    }
   ],
   "source": [
    "import nltk\n",
    "st = nltk.PorterStemmer()\n",
    "def stemming_on_text(data):\n",
    "    text = [st.stem(word) for word in data]\n",
    "    return data\n",
    "data['text']= data['text'].apply(lambda x: stemming_on_text(x))\n",
    "data['text'].head()"
   ]
  },
  {
   "cell_type": "code",
   "execution_count": 24,
   "id": "ccc7335c",
   "metadata": {},
   "outputs": [
    {
     "data": {
      "text/html": [
       "<div>\n",
       "<style scoped>\n",
       "    .dataframe tbody tr th:only-of-type {\n",
       "        vertical-align: middle;\n",
       "    }\n",
       "\n",
       "    .dataframe tbody tr th {\n",
       "        vertical-align: top;\n",
       "    }\n",
       "\n",
       "    .dataframe thead th {\n",
       "        text-align: right;\n",
       "    }\n",
       "</style>\n",
       "<table border=\"1\" class=\"dataframe\">\n",
       "  <thead>\n",
       "    <tr style=\"text-align: right;\">\n",
       "      <th></th>\n",
       "      <th>id</th>\n",
       "      <th>text</th>\n",
       "      <th>datetime</th>\n",
       "      <th>intent</th>\n",
       "    </tr>\n",
       "  </thead>\n",
       "  <tbody>\n",
       "    <tr>\n",
       "      <th>0</th>\n",
       "      <td>1212762</td>\n",
       "      <td>[cryptobrody, ecolog, moonrunnersnft, itsukinf...</td>\n",
       "      <td>2022-08-06T16:56:36.000Z</td>\n",
       "      <td>1</td>\n",
       "    </tr>\n",
       "    <tr>\n",
       "      <th>1</th>\n",
       "      <td>1212763</td>\n",
       "      <td>[need, sick, character, artâ, “art, artist, a...</td>\n",
       "      <td>2022-08-06T16:56:36.000Z</td>\n",
       "      <td>3</td>\n",
       "    </tr>\n",
       "    <tr>\n",
       "      <th>2</th>\n",
       "      <td>1212765</td>\n",
       "      <td>[thehulknft, inagotchinft, tesla, killabearsnf...</td>\n",
       "      <td>2022-08-06T16:56:35.000Z</td>\n",
       "      <td>0</td>\n",
       "    </tr>\n",
       "    <tr>\n",
       "      <th>3</th>\n",
       "      <td>1212766</td>\n",
       "      <td>[cryptobatznft, darekbtw, first, project, cryp...</td>\n",
       "      <td>2022-08-06T16:56:35.000Z</td>\n",
       "      <td>1</td>\n",
       "    </tr>\n",
       "    <tr>\n",
       "      <th>4</th>\n",
       "      <td>1212767</td>\n",
       "      <td>[sashadysonn, first, project, crypto, move, ea...</td>\n",
       "      <td>2022-08-06T16:56:34.000Z</td>\n",
       "      <td>1</td>\n",
       "    </tr>\n",
       "  </tbody>\n",
       "</table>\n",
       "</div>"
      ],
      "text/plain": [
       "        id                                               text  \\\n",
       "0  1212762  [cryptobrody, ecolog, moonrunnersnft, itsukinf...   \n",
       "1  1212763  [need, sick, character, artâ, “art, artist, a...   \n",
       "2  1212765  [thehulknft, inagotchinft, tesla, killabearsnf...   \n",
       "3  1212766  [cryptobatznft, darekbtw, first, project, cryp...   \n",
       "4  1212767  [sashadysonn, first, project, crypto, move, ea...   \n",
       "\n",
       "                   datetime  intent  \n",
       "0  2022-08-06T16:56:36.000Z       1  \n",
       "1  2022-08-06T16:56:36.000Z       3  \n",
       "2  2022-08-06T16:56:35.000Z       0  \n",
       "3  2022-08-06T16:56:35.000Z       1  \n",
       "4  2022-08-06T16:56:34.000Z       1  "
      ]
     },
     "execution_count": 24,
     "metadata": {},
     "output_type": "execute_result"
    }
   ],
   "source": [
    "data.head()"
   ]
  },
  {
   "cell_type": "markdown",
   "id": "50da9a69",
   "metadata": {},
   "source": [
    "Splitting the missing intent to test & remaining to train"
   ]
  },
  {
   "cell_type": "code",
   "execution_count": 25,
   "id": "79e2bc47",
   "metadata": {},
   "outputs": [],
   "source": [
    "testdf = data[data['intent'] == -1]\n",
    "traindf = data[data['intent'] != -1]"
   ]
  },
  {
   "cell_type": "code",
   "execution_count": 26,
   "id": "afaf3ee0",
   "metadata": {},
   "outputs": [
    {
     "data": {
      "text/html": [
       "<div>\n",
       "<style scoped>\n",
       "    .dataframe tbody tr th:only-of-type {\n",
       "        vertical-align: middle;\n",
       "    }\n",
       "\n",
       "    .dataframe tbody tr th {\n",
       "        vertical-align: top;\n",
       "    }\n",
       "\n",
       "    .dataframe thead th {\n",
       "        text-align: right;\n",
       "    }\n",
       "</style>\n",
       "<table border=\"1\" class=\"dataframe\">\n",
       "  <thead>\n",
       "    <tr style=\"text-align: right;\">\n",
       "      <th></th>\n",
       "      <th>id</th>\n",
       "      <th>text</th>\n",
       "      <th>datetime</th>\n",
       "      <th>intent</th>\n",
       "    </tr>\n",
       "  </thead>\n",
       "  <tbody>\n",
       "    <tr>\n",
       "      <th>0</th>\n",
       "      <td>1212762</td>\n",
       "      <td>[cryptobrody, ecolog, moonrunnersnft, itsukinf...</td>\n",
       "      <td>2022-08-06T16:56:36.000Z</td>\n",
       "      <td>1</td>\n",
       "    </tr>\n",
       "    <tr>\n",
       "      <th>1</th>\n",
       "      <td>1212763</td>\n",
       "      <td>[need, sick, character, artâ, “art, artist, a...</td>\n",
       "      <td>2022-08-06T16:56:36.000Z</td>\n",
       "      <td>3</td>\n",
       "    </tr>\n",
       "    <tr>\n",
       "      <th>2</th>\n",
       "      <td>1212765</td>\n",
       "      <td>[thehulknft, inagotchinft, tesla, killabearsnf...</td>\n",
       "      <td>2022-08-06T16:56:35.000Z</td>\n",
       "      <td>0</td>\n",
       "    </tr>\n",
       "    <tr>\n",
       "      <th>3</th>\n",
       "      <td>1212766</td>\n",
       "      <td>[cryptobatznft, darekbtw, first, project, cryp...</td>\n",
       "      <td>2022-08-06T16:56:35.000Z</td>\n",
       "      <td>1</td>\n",
       "    </tr>\n",
       "    <tr>\n",
       "      <th>4</th>\n",
       "      <td>1212767</td>\n",
       "      <td>[sashadysonn, first, project, crypto, move, ea...</td>\n",
       "      <td>2022-08-06T16:56:34.000Z</td>\n",
       "      <td>1</td>\n",
       "    </tr>\n",
       "    <tr>\n",
       "      <th>...</th>\n",
       "      <td>...</td>\n",
       "      <td>...</td>\n",
       "      <td>...</td>\n",
       "      <td>...</td>\n",
       "    </tr>\n",
       "    <tr>\n",
       "      <th>96359</th>\n",
       "      <td>1424490</td>\n",
       "      <td>[nftcryptogang, liuyan, xfedaeeeaadaecbfc, tha...</td>\n",
       "      <td>2022-08-11T23:11:58.000Z</td>\n",
       "      <td>0</td>\n",
       "    </tr>\n",
       "    <tr>\n",
       "      <th>96360</th>\n",
       "      <td>1424491</td>\n",
       "      <td>[registered, win, cryptopunksnfts, blokpax, le...</td>\n",
       "      <td>2022-08-11T23:11:58.000Z</td>\n",
       "      <td>6</td>\n",
       "    </tr>\n",
       "    <tr>\n",
       "      <th>96361</th>\n",
       "      <td>1424494</td>\n",
       "      <td>[solsniffer, dyor, nft, collection, dictators,...</td>\n",
       "      <td>2022-08-11T23:11:58.000Z</td>\n",
       "      <td>0</td>\n",
       "    </tr>\n",
       "    <tr>\n",
       "      <th>96362</th>\n",
       "      <td>1424497</td>\n",
       "      <td>[nft, nftcommmunity, deltaflare, join, discord...</td>\n",
       "      <td>2022-08-11T23:11:56.000Z</td>\n",
       "      <td>1</td>\n",
       "    </tr>\n",
       "    <tr>\n",
       "      <th>96363</th>\n",
       "      <td>1424498</td>\n",
       "      <td>[duckbathing, diozoth, elonmusk, richerd, john...</td>\n",
       "      <td>2022-08-11T23:11:56.000Z</td>\n",
       "      <td>0</td>\n",
       "    </tr>\n",
       "  </tbody>\n",
       "</table>\n",
       "<p>96364 rows × 4 columns</p>\n",
       "</div>"
      ],
      "text/plain": [
       "            id                                               text  \\\n",
       "0      1212762  [cryptobrody, ecolog, moonrunnersnft, itsukinf...   \n",
       "1      1212763  [need, sick, character, artâ, “art, artist, a...   \n",
       "2      1212765  [thehulknft, inagotchinft, tesla, killabearsnf...   \n",
       "3      1212766  [cryptobatznft, darekbtw, first, project, cryp...   \n",
       "4      1212767  [sashadysonn, first, project, crypto, move, ea...   \n",
       "...        ...                                                ...   \n",
       "96359  1424490  [nftcryptogang, liuyan, xfedaeeeaadaecbfc, tha...   \n",
       "96360  1424491  [registered, win, cryptopunksnfts, blokpax, le...   \n",
       "96361  1424494  [solsniffer, dyor, nft, collection, dictators,...   \n",
       "96362  1424497  [nft, nftcommmunity, deltaflare, join, discord...   \n",
       "96363  1424498  [duckbathing, diozoth, elonmusk, richerd, john...   \n",
       "\n",
       "                       datetime  intent  \n",
       "0      2022-08-06T16:56:36.000Z       1  \n",
       "1      2022-08-06T16:56:36.000Z       3  \n",
       "2      2022-08-06T16:56:35.000Z       0  \n",
       "3      2022-08-06T16:56:35.000Z       1  \n",
       "4      2022-08-06T16:56:34.000Z       1  \n",
       "...                         ...     ...  \n",
       "96359  2022-08-11T23:11:58.000Z       0  \n",
       "96360  2022-08-11T23:11:58.000Z       6  \n",
       "96361  2022-08-11T23:11:58.000Z       0  \n",
       "96362  2022-08-11T23:11:56.000Z       1  \n",
       "96363  2022-08-11T23:11:56.000Z       0  \n",
       "\n",
       "[96364 rows x 4 columns]"
      ]
     },
     "execution_count": 26,
     "metadata": {},
     "output_type": "execute_result"
    }
   ],
   "source": [
    "traindf "
   ]
  },
  {
   "cell_type": "markdown",
   "id": "bd60e80b",
   "metadata": {},
   "source": [
    "Assigning Dependent and independent variable"
   ]
  },
  {
   "cell_type": "code",
   "execution_count": 27,
   "id": "7796e621",
   "metadata": {},
   "outputs": [],
   "source": [
    "X=traindf[\"text\"]"
   ]
  },
  {
   "cell_type": "code",
   "execution_count": 28,
   "id": "063eeb35",
   "metadata": {},
   "outputs": [],
   "source": [
    "Y=traindf[\"intent\"]"
   ]
  },
  {
   "cell_type": "markdown",
   "id": "3ed496c2",
   "metadata": {},
   "source": [
    "Splitting the traindf to train and test dataset "
   ]
  },
  {
   "cell_type": "code",
   "execution_count": 29,
   "id": "4cf22f40",
   "metadata": {},
   "outputs": [],
   "source": [
    "X_train, X_test, y_train, y_test = train_test_split(X,Y,test_size = 0.05, random_state =26105111)"
   ]
  },
  {
   "cell_type": "code",
   "execution_count": 30,
   "id": "9eb1fb32",
   "metadata": {},
   "outputs": [],
   "source": [
    "X_t=X_train.astype(str)"
   ]
  },
  {
   "cell_type": "code",
   "execution_count": 31,
   "id": "5b8cea2b",
   "metadata": {},
   "outputs": [],
   "source": [
    "X_s=X_test.astype(str)"
   ]
  },
  {
   "cell_type": "markdown",
   "id": "d20fab9b",
   "metadata": {},
   "source": [
    "Transforming Dataset using TF-IDF Vectorizer"
   ]
  },
  {
   "cell_type": "code",
   "execution_count": 67,
   "id": "0c76c3fb",
   "metadata": {},
   "outputs": [
    {
     "name": "stdout",
     "output_type": "stream",
     "text": [
      "No. of feature_words:  495733\n"
     ]
    }
   ],
   "source": [
    "vectoriser = TfidfVectorizer(ngram_range=(1,2), max_features=500000)\n",
    "vectoriser.fit(X_t)\n",
    "print('No. of feature_words: ', len(vectoriser.get_feature_names()))\n",
    "import warnings\n",
    "warnings.filterwarnings(\"ignore\")\n"
   ]
  },
  {
   "cell_type": "code",
   "execution_count": 35,
   "id": "d63d7d4c",
   "metadata": {},
   "outputs": [],
   "source": [
    "X_train = vectoriser.transform(X_t)\n",
    "X_test  = vectoriser.transform(X_s)"
   ]
  },
  {
   "cell_type": "markdown",
   "id": "682e83a1",
   "metadata": {},
   "source": [
    "# Model Building"
   ]
  },
  {
   "cell_type": "markdown",
   "id": "81e5a655",
   "metadata": {},
   "source": [
    "Bernoulli Naive Bayes,SVM (Support Vector Machine),Logistic Regression"
   ]
  },
  {
   "cell_type": "markdown",
   "id": "dd9bafff",
   "metadata": {},
   "source": [
    "MODEL-1 (Logistic Regression)"
   ]
  },
  {
   "cell_type": "code",
   "execution_count": 36,
   "id": "c7e5864f",
   "metadata": {},
   "outputs": [
    {
     "data": {
      "text/plain": [
       "LogisticRegression(C=2, max_iter=1000, n_jobs=-1)"
      ]
     },
     "execution_count": 36,
     "metadata": {},
     "output_type": "execute_result"
    }
   ],
   "source": [
    "LRmodel = LogisticRegression(C = 2, max_iter = 1000, n_jobs=-1)\n",
    "LRmodel.fit(X_train, y_train)"
   ]
  },
  {
   "cell_type": "code",
   "execution_count": 37,
   "id": "a9fd69e8",
   "metadata": {},
   "outputs": [],
   "source": [
    "y_pred1= LRmodel.predict(X_test)"
   ]
  },
  {
   "cell_type": "code",
   "execution_count": 38,
   "id": "a7aa233e",
   "metadata": {},
   "outputs": [
    {
     "data": {
      "text/plain": [
       "0.9692882340734592"
      ]
     },
     "execution_count": 38,
     "metadata": {},
     "output_type": "execute_result"
    }
   ],
   "source": [
    "accuracy_score(y_test, y_pred1)"
   ]
  },
  {
   "cell_type": "code",
   "execution_count": 39,
   "id": "eaf74100",
   "metadata": {},
   "outputs": [
    {
     "data": {
      "text/plain": [
       "array([[ 810,    8,    0,    7,    0,    0,    1,    3,    0],\n",
       "       [   6, 1990,    0,    3,    0,    0,    0,    1,    0],\n",
       "       [   3,    1,  146,    1,    0,    0,    0,    1,    0],\n",
       "       [  12,   21,    0, 1055,    1,    0,    0,    3,    0],\n",
       "       [   2,    3,    0,    1,   12,    0,    0,    0,    0],\n",
       "       [   0,    0,    0,    0,    0,    9,    0,    0,    0],\n",
       "       [   1,    4,    0,    2,    0,    0,  263,    1,    0],\n",
       "       [  16,   35,    0,    7,    0,    0,    2,  371,    1],\n",
       "       [   0,    0,    0,    1,    0,    0,    0,    0,   15]],\n",
       "      dtype=int64)"
      ]
     },
     "execution_count": 39,
     "metadata": {},
     "output_type": "execute_result"
    }
   ],
   "source": [
    "confusion_matrix(y_test, y_pred1)"
   ]
  },
  {
   "cell_type": "code",
   "execution_count": 40,
   "id": "ad71b912",
   "metadata": {},
   "outputs": [
    {
     "name": "stdout",
     "output_type": "stream",
     "text": [
      "              precision    recall  f1-score   support\n",
      "\n",
      "           0       0.95      0.98      0.96       829\n",
      "           1       0.97      0.99      0.98      2000\n",
      "           2       1.00      0.96      0.98       152\n",
      "           3       0.98      0.97      0.97      1092\n",
      "           4       0.92      0.67      0.77        18\n",
      "           5       1.00      1.00      1.00         9\n",
      "           6       0.99      0.97      0.98       271\n",
      "           7       0.98      0.86      0.91       432\n",
      "           8       0.94      0.94      0.94        16\n",
      "\n",
      "    accuracy                           0.97      4819\n",
      "   macro avg       0.97      0.93      0.94      4819\n",
      "weighted avg       0.97      0.97      0.97      4819\n",
      "\n"
     ]
    }
   ],
   "source": [
    "print(classification_report(y_test, y_pred1))"
   ]
  },
  {
   "cell_type": "markdown",
   "id": "9236659d",
   "metadata": {},
   "source": [
    "MODEL-2(Bernoulli Naive Bayes)"
   ]
  },
  {
   "cell_type": "code",
   "execution_count": 41,
   "id": "7f049369",
   "metadata": {},
   "outputs": [],
   "source": [
    "BNBmodel = BernoulliNB()"
   ]
  },
  {
   "cell_type": "code",
   "execution_count": 42,
   "id": "7dbe6ac3",
   "metadata": {},
   "outputs": [
    {
     "data": {
      "text/plain": [
       "BernoulliNB()"
      ]
     },
     "execution_count": 42,
     "metadata": {},
     "output_type": "execute_result"
    }
   ],
   "source": [
    "BNBmodel.fit(X_train, y_train)"
   ]
  },
  {
   "cell_type": "code",
   "execution_count": 43,
   "id": "834e74fb",
   "metadata": {},
   "outputs": [],
   "source": [
    "y_pred2 = BNBmodel.predict(X_test)\n"
   ]
  },
  {
   "cell_type": "code",
   "execution_count": 44,
   "id": "b5e85f1c",
   "metadata": {},
   "outputs": [
    {
     "data": {
      "text/plain": [
       "0.8279726084249844"
      ]
     },
     "execution_count": 44,
     "metadata": {},
     "output_type": "execute_result"
    }
   ],
   "source": [
    "accuracy_score(y_test, y_pred2)"
   ]
  },
  {
   "cell_type": "code",
   "execution_count": 45,
   "id": "cc477ade",
   "metadata": {},
   "outputs": [
    {
     "data": {
      "text/plain": [
       "array([[ 618,  197,    0,   14,    0,    0,    0,    0,    0],\n",
       "       [  13, 1965,    0,   21,    0,    0,    0,    1,    0],\n",
       "       [  57,   92,    3,    0,    0,    0,    0,    0,    0],\n",
       "       [  31,   60,    0, 1001,    0,    0,    0,    0,    0],\n",
       "       [   5,   12,    0,    1,    0,    0,    0,    0,    0],\n",
       "       [   1,    0,    0,    7,    0,    0,    0,    1,    0],\n",
       "       [   5,  126,    0,   11,    0,    0,  129,    0,    0],\n",
       "       [  28,   91,    0,   39,    0,    0,    0,  274,    0],\n",
       "       [   2,    1,    0,    6,    0,    0,    0,    7,    0]],\n",
       "      dtype=int64)"
      ]
     },
     "execution_count": 45,
     "metadata": {},
     "output_type": "execute_result"
    }
   ],
   "source": [
    "confusion_matrix(y_test, y_pred2)"
   ]
  },
  {
   "cell_type": "code",
   "execution_count": 47,
   "id": "1112af06",
   "metadata": {},
   "outputs": [
    {
     "name": "stdout",
     "output_type": "stream",
     "text": [
      "              precision    recall  f1-score   support\n",
      "\n",
      "           0       0.81      0.75      0.78       829\n",
      "           1       0.77      0.98      0.86      2000\n",
      "           2       1.00      0.02      0.04       152\n",
      "           3       0.91      0.92      0.91      1092\n",
      "           4       0.00      0.00      0.00        18\n",
      "           5       0.00      0.00      0.00         9\n",
      "           6       1.00      0.48      0.65       271\n",
      "           7       0.97      0.63      0.77       432\n",
      "           8       0.00      0.00      0.00        16\n",
      "\n",
      "    accuracy                           0.83      4819\n",
      "   macro avg       0.61      0.42      0.45      4819\n",
      "weighted avg       0.84      0.83      0.81      4819\n",
      "\n"
     ]
    }
   ],
   "source": [
    "print(classification_report(y_test, y_pred2))"
   ]
  },
  {
   "cell_type": "markdown",
   "id": "229ad62c",
   "metadata": {},
   "source": [
    "MODEL-3(SVM (Support Vector Machine))"
   ]
  },
  {
   "cell_type": "code",
   "execution_count": 48,
   "id": "825f0ac8",
   "metadata": {},
   "outputs": [],
   "source": [
    "SVCmodel = LinearSVC()"
   ]
  },
  {
   "cell_type": "code",
   "execution_count": 49,
   "id": "ace5452d",
   "metadata": {},
   "outputs": [
    {
     "data": {
      "text/plain": [
       "LinearSVC()"
      ]
     },
     "execution_count": 49,
     "metadata": {},
     "output_type": "execute_result"
    }
   ],
   "source": [
    "SVCmodel.fit(X_train, y_train)"
   ]
  },
  {
   "cell_type": "code",
   "execution_count": 50,
   "id": "70e55370",
   "metadata": {},
   "outputs": [],
   "source": [
    "y_pred3 = SVCmodel.predict(X_test)"
   ]
  },
  {
   "cell_type": "code",
   "execution_count": 51,
   "id": "d5677c14",
   "metadata": {},
   "outputs": [
    {
     "data": {
      "text/plain": [
       "0.9786262710105831"
      ]
     },
     "execution_count": 51,
     "metadata": {},
     "output_type": "execute_result"
    }
   ],
   "source": [
    "accuracy_score(y_test, y_pred3)"
   ]
  },
  {
   "cell_type": "code",
   "execution_count": 52,
   "id": "d83f777b",
   "metadata": {},
   "outputs": [
    {
     "data": {
      "text/plain": [
       "array([2, 0, 1, ..., 1, 1, 1], dtype=int8)"
      ]
     },
     "execution_count": 52,
     "metadata": {},
     "output_type": "execute_result"
    }
   ],
   "source": [
    "y_pred3"
   ]
  },
  {
   "cell_type": "code",
   "execution_count": 53,
   "id": "b385541d",
   "metadata": {},
   "outputs": [
    {
     "name": "stdout",
     "output_type": "stream",
     "text": [
      "              precision    recall  f1-score   support\n",
      "\n",
      "           0       0.96      0.99      0.97       829\n",
      "           1       0.98      1.00      0.99      2000\n",
      "           2       1.00      0.97      0.99       152\n",
      "           3       0.99      0.97      0.98      1092\n",
      "           4       0.94      0.94      0.94        18\n",
      "           5       1.00      1.00      1.00         9\n",
      "           6       0.99      0.99      0.99       271\n",
      "           7       0.98      0.89      0.93       432\n",
      "           8       0.94      1.00      0.97        16\n",
      "\n",
      "    accuracy                           0.98      4819\n",
      "   macro avg       0.98      0.97      0.97      4819\n",
      "weighted avg       0.98      0.98      0.98      4819\n",
      "\n"
     ]
    }
   ],
   "source": [
    "print(classification_report(y_test, y_pred3))\n",
    "import warnings\n",
    "warnings.filterwarnings(\"ignore\")"
   ]
  },
  {
   "cell_type": "markdown",
   "id": "313e75a3",
   "metadata": {},
   "source": [
    "1)Accuracy of SVM model is higher than other two model \n",
    "2)Model-3(SVM (Support Vector Machine)) is used to predict the values of New data set"
   ]
  },
  {
   "cell_type": "code",
   "execution_count": 54,
   "id": "59c1fc88",
   "metadata": {},
   "outputs": [],
   "source": [
    "X_n=testdf[\"text\"].astype(str)"
   ]
  },
  {
   "cell_type": "code",
   "execution_count": 55,
   "id": "1716895e",
   "metadata": {},
   "outputs": [],
   "source": [
    "X_new = vectoriser.transform(X_n)"
   ]
  },
  {
   "cell_type": "code",
   "execution_count": 56,
   "id": "0e17b2a2",
   "metadata": {},
   "outputs": [],
   "source": [
    "y_new = SVCmodel.predict(X_new)"
   ]
  },
  {
   "cell_type": "code",
   "execution_count": 57,
   "id": "7e3aae8d",
   "metadata": {},
   "outputs": [
    {
     "data": {
      "text/plain": [
       "array([7, 3, 7, ..., 7, 0, 2], dtype=int8)"
      ]
     },
     "execution_count": 57,
     "metadata": {},
     "output_type": "execute_result"
    }
   ],
   "source": [
    "y_new"
   ]
  },
  {
   "cell_type": "markdown",
   "id": "d3c1c01b",
   "metadata": {},
   "source": [
    "Missing values of intent is added to test dataframe"
   ]
  },
  {
   "cell_type": "code",
   "execution_count": 58,
   "id": "065adfea",
   "metadata": {},
   "outputs": [],
   "source": [
    "test=testdf.drop([\"intent\"],axis=1)"
   ]
  },
  {
   "cell_type": "code",
   "execution_count": 59,
   "id": "281e7628",
   "metadata": {},
   "outputs": [],
   "source": [
    "test['intent'] = y_new\n"
   ]
  },
  {
   "cell_type": "code",
   "execution_count": 60,
   "id": "550d6b1e",
   "metadata": {},
   "outputs": [
    {
     "data": {
      "text/html": [
       "<div>\n",
       "<style scoped>\n",
       "    .dataframe tbody tr th:only-of-type {\n",
       "        vertical-align: middle;\n",
       "    }\n",
       "\n",
       "    .dataframe tbody tr th {\n",
       "        vertical-align: top;\n",
       "    }\n",
       "\n",
       "    .dataframe thead th {\n",
       "        text-align: right;\n",
       "    }\n",
       "</style>\n",
       "<table border=\"1\" class=\"dataframe\">\n",
       "  <thead>\n",
       "    <tr style=\"text-align: right;\">\n",
       "      <th></th>\n",
       "      <th>id</th>\n",
       "      <th>text</th>\n",
       "      <th>datetime</th>\n",
       "      <th>intent</th>\n",
       "    </tr>\n",
       "  </thead>\n",
       "  <tbody>\n",
       "    <tr>\n",
       "      <th>96364</th>\n",
       "      <td>1212764</td>\n",
       "      <td>[off, ðÿ, §™â€â™‚ï¸, wizardia, nfts, its, pe...</td>\n",
       "      <td>2022-08-06T16:56:35.000Z</td>\n",
       "      <td>7</td>\n",
       "    </tr>\n",
       "    <tr>\n",
       "      <th>96365</th>\n",
       "      <td>1212770</td>\n",
       "      <td>[asksabir, daolm, dont, miss, chance, win, nft...</td>\n",
       "      <td>2022-08-06T16:56:33.000Z</td>\n",
       "      <td>3</td>\n",
       "    </tr>\n",
       "    <tr>\n",
       "      <th>96366</th>\n",
       "      <td>1212773</td>\n",
       "      <td>[zesty, faucet, bitcoiner, making, tweet, clai...</td>\n",
       "      <td>2022-08-06T16:56:33.000Z</td>\n",
       "      <td>7</td>\n",
       "    </tr>\n",
       "    <tr>\n",
       "      <th>96367</th>\n",
       "      <td>1212804</td>\n",
       "      <td>[off, ðÿ, §™â€â™‚ï¸, wizardia, nfts, its, pe...</td>\n",
       "      <td>2022-08-06T16:56:23.000Z</td>\n",
       "      <td>7</td>\n",
       "    </tr>\n",
       "    <tr>\n",
       "      <th>96368</th>\n",
       "      <td>1212776</td>\n",
       "      <td>[kavaboynft, tanyad, message, me, letâ, €™s, t...</td>\n",
       "      <td>2022-08-06T16:56:32.000Z</td>\n",
       "      <td>0</td>\n",
       "    </tr>\n",
       "    <tr>\n",
       "      <th>...</th>\n",
       "      <td>...</td>\n",
       "      <td>...</td>\n",
       "      <td>...</td>\n",
       "      <td>...</td>\n",
       "    </tr>\n",
       "    <tr>\n",
       "      <th>127448</th>\n",
       "      <td>1278721</td>\n",
       "      <td>[jason, company, universe, solving, this, weve...</td>\n",
       "      <td>2022-08-08T03:32:01.000Z</td>\n",
       "      <td>1</td>\n",
       "    </tr>\n",
       "    <tr>\n",
       "      <th>127449</th>\n",
       "      <td>1278723</td>\n",
       "      <td>[bosotokyo, many, get, rekt, nft]</td>\n",
       "      <td>2022-08-08T03:32:00.000Z</td>\n",
       "      <td>0</td>\n",
       "    </tr>\n",
       "    <tr>\n",
       "      <th>127450</th>\n",
       "      <td>1278724</td>\n",
       "      <td>[leeneedham, kibainuworld, hodlofficial, koaco...</td>\n",
       "      <td>2022-08-08T03:32:00.000Z</td>\n",
       "      <td>7</td>\n",
       "    </tr>\n",
       "    <tr>\n",
       "      <th>127451</th>\n",
       "      <td>1278725</td>\n",
       "      <td>[kzro, unleashednft, love, job]</td>\n",
       "      <td>2022-08-08T03:31:59.000Z</td>\n",
       "      <td>0</td>\n",
       "    </tr>\n",
       "    <tr>\n",
       "      <th>127452</th>\n",
       "      <td>1278729</td>\n",
       "      <td>[shillronin, unleashednft, proof, httpstcodipgz]</td>\n",
       "      <td>2022-08-08T03:31:58.000Z</td>\n",
       "      <td>2</td>\n",
       "    </tr>\n",
       "  </tbody>\n",
       "</table>\n",
       "<p>31089 rows × 4 columns</p>\n",
       "</div>"
      ],
      "text/plain": [
       "             id                                               text  \\\n",
       "96364   1212764  [off, ðÿ, §™â€â™‚ï¸, wizardia, nfts, its, pe...   \n",
       "96365   1212770  [asksabir, daolm, dont, miss, chance, win, nft...   \n",
       "96366   1212773  [zesty, faucet, bitcoiner, making, tweet, clai...   \n",
       "96367   1212804  [off, ðÿ, §™â€â™‚ï¸, wizardia, nfts, its, pe...   \n",
       "96368   1212776  [kavaboynft, tanyad, message, me, letâ, €™s, t...   \n",
       "...         ...                                                ...   \n",
       "127448  1278721  [jason, company, universe, solving, this, weve...   \n",
       "127449  1278723                  [bosotokyo, many, get, rekt, nft]   \n",
       "127450  1278724  [leeneedham, kibainuworld, hodlofficial, koaco...   \n",
       "127451  1278725                    [kzro, unleashednft, love, job]   \n",
       "127452  1278729   [shillronin, unleashednft, proof, httpstcodipgz]   \n",
       "\n",
       "                        datetime  intent  \n",
       "96364   2022-08-06T16:56:35.000Z       7  \n",
       "96365   2022-08-06T16:56:33.000Z       3  \n",
       "96366   2022-08-06T16:56:33.000Z       7  \n",
       "96367   2022-08-06T16:56:23.000Z       7  \n",
       "96368   2022-08-06T16:56:32.000Z       0  \n",
       "...                          ...     ...  \n",
       "127448  2022-08-08T03:32:01.000Z       1  \n",
       "127449  2022-08-08T03:32:00.000Z       0  \n",
       "127450  2022-08-08T03:32:00.000Z       7  \n",
       "127451  2022-08-08T03:31:59.000Z       0  \n",
       "127452  2022-08-08T03:31:58.000Z       2  \n",
       "\n",
       "[31089 rows x 4 columns]"
      ]
     },
     "execution_count": 60,
     "metadata": {},
     "output_type": "execute_result"
    }
   ],
   "source": [
    "test"
   ]
  },
  {
   "cell_type": "code",
   "execution_count": 61,
   "id": "c8b64f2d",
   "metadata": {},
   "outputs": [
    {
     "data": {
      "text/html": [
       "<div>\n",
       "<style scoped>\n",
       "    .dataframe tbody tr th:only-of-type {\n",
       "        vertical-align: middle;\n",
       "    }\n",
       "\n",
       "    .dataframe tbody tr th {\n",
       "        vertical-align: top;\n",
       "    }\n",
       "\n",
       "    .dataframe thead th {\n",
       "        text-align: right;\n",
       "    }\n",
       "</style>\n",
       "<table border=\"1\" class=\"dataframe\">\n",
       "  <thead>\n",
       "    <tr style=\"text-align: right;\">\n",
       "      <th></th>\n",
       "      <th>id</th>\n",
       "      <th>text</th>\n",
       "      <th>datetime</th>\n",
       "      <th>intent</th>\n",
       "    </tr>\n",
       "  </thead>\n",
       "  <tbody>\n",
       "    <tr>\n",
       "      <th>0</th>\n",
       "      <td>1212762</td>\n",
       "      <td>[cryptobrody, ecolog, moonrunnersnft, itsukinf...</td>\n",
       "      <td>2022-08-06T16:56:36.000Z</td>\n",
       "      <td>1</td>\n",
       "    </tr>\n",
       "    <tr>\n",
       "      <th>1</th>\n",
       "      <td>1212763</td>\n",
       "      <td>[need, sick, character, artâ, “art, artist, a...</td>\n",
       "      <td>2022-08-06T16:56:36.000Z</td>\n",
       "      <td>3</td>\n",
       "    </tr>\n",
       "    <tr>\n",
       "      <th>2</th>\n",
       "      <td>1212765</td>\n",
       "      <td>[thehulknft, inagotchinft, tesla, killabearsnf...</td>\n",
       "      <td>2022-08-06T16:56:35.000Z</td>\n",
       "      <td>0</td>\n",
       "    </tr>\n",
       "    <tr>\n",
       "      <th>3</th>\n",
       "      <td>1212766</td>\n",
       "      <td>[cryptobatznft, darekbtw, first, project, cryp...</td>\n",
       "      <td>2022-08-06T16:56:35.000Z</td>\n",
       "      <td>1</td>\n",
       "    </tr>\n",
       "    <tr>\n",
       "      <th>4</th>\n",
       "      <td>1212767</td>\n",
       "      <td>[sashadysonn, first, project, crypto, move, ea...</td>\n",
       "      <td>2022-08-06T16:56:34.000Z</td>\n",
       "      <td>1</td>\n",
       "    </tr>\n",
       "    <tr>\n",
       "      <th>...</th>\n",
       "      <td>...</td>\n",
       "      <td>...</td>\n",
       "      <td>...</td>\n",
       "      <td>...</td>\n",
       "    </tr>\n",
       "    <tr>\n",
       "      <th>127448</th>\n",
       "      <td>1278721</td>\n",
       "      <td>[jason, company, universe, solving, this, weve...</td>\n",
       "      <td>2022-08-08T03:32:01.000Z</td>\n",
       "      <td>1</td>\n",
       "    </tr>\n",
       "    <tr>\n",
       "      <th>127449</th>\n",
       "      <td>1278723</td>\n",
       "      <td>[bosotokyo, many, get, rekt, nft]</td>\n",
       "      <td>2022-08-08T03:32:00.000Z</td>\n",
       "      <td>0</td>\n",
       "    </tr>\n",
       "    <tr>\n",
       "      <th>127450</th>\n",
       "      <td>1278724</td>\n",
       "      <td>[leeneedham, kibainuworld, hodlofficial, koaco...</td>\n",
       "      <td>2022-08-08T03:32:00.000Z</td>\n",
       "      <td>7</td>\n",
       "    </tr>\n",
       "    <tr>\n",
       "      <th>127451</th>\n",
       "      <td>1278725</td>\n",
       "      <td>[kzro, unleashednft, love, job]</td>\n",
       "      <td>2022-08-08T03:31:59.000Z</td>\n",
       "      <td>0</td>\n",
       "    </tr>\n",
       "    <tr>\n",
       "      <th>127452</th>\n",
       "      <td>1278729</td>\n",
       "      <td>[shillronin, unleashednft, proof, httpstcodipgz]</td>\n",
       "      <td>2022-08-08T03:31:58.000Z</td>\n",
       "      <td>2</td>\n",
       "    </tr>\n",
       "  </tbody>\n",
       "</table>\n",
       "<p>127453 rows × 4 columns</p>\n",
       "</div>"
      ],
      "text/plain": [
       "             id                                               text  \\\n",
       "0       1212762  [cryptobrody, ecolog, moonrunnersnft, itsukinf...   \n",
       "1       1212763  [need, sick, character, artâ, “art, artist, a...   \n",
       "2       1212765  [thehulknft, inagotchinft, tesla, killabearsnf...   \n",
       "3       1212766  [cryptobatznft, darekbtw, first, project, cryp...   \n",
       "4       1212767  [sashadysonn, first, project, crypto, move, ea...   \n",
       "...         ...                                                ...   \n",
       "127448  1278721  [jason, company, universe, solving, this, weve...   \n",
       "127449  1278723                  [bosotokyo, many, get, rekt, nft]   \n",
       "127450  1278724  [leeneedham, kibainuworld, hodlofficial, koaco...   \n",
       "127451  1278725                    [kzro, unleashednft, love, job]   \n",
       "127452  1278729   [shillronin, unleashednft, proof, httpstcodipgz]   \n",
       "\n",
       "                        datetime  intent  \n",
       "0       2022-08-06T16:56:36.000Z       1  \n",
       "1       2022-08-06T16:56:36.000Z       3  \n",
       "2       2022-08-06T16:56:35.000Z       0  \n",
       "3       2022-08-06T16:56:35.000Z       1  \n",
       "4       2022-08-06T16:56:34.000Z       1  \n",
       "...                          ...     ...  \n",
       "127448  2022-08-08T03:32:01.000Z       1  \n",
       "127449  2022-08-08T03:32:00.000Z       0  \n",
       "127450  2022-08-08T03:32:00.000Z       7  \n",
       "127451  2022-08-08T03:31:59.000Z       0  \n",
       "127452  2022-08-08T03:31:58.000Z       2  \n",
       "\n",
       "[127453 rows x 4 columns]"
      ]
     },
     "execution_count": 61,
     "metadata": {},
     "output_type": "execute_result"
    }
   ],
   "source": [
    "#all the data are concated to a single dataframe\n",
    "data2=pd.concat([traindf,test])\n",
    "data2"
   ]
  },
  {
   "cell_type": "code",
   "execution_count": 62,
   "id": "78d291a7",
   "metadata": {},
   "outputs": [],
   "source": [
    "#convert all the codes to category names\n",
    "codes=[0,1,2,3,4,5,6,7,8]\n",
    "values=[\"Appreciation\",\"Community\",\"Done\",\"Giveaway\",\"Interested\",\"Launching Soon\",\"Presale\",\"Whitelist\",\"pinksale\"]"
   ]
  },
  {
   "cell_type": "code",
   "execution_count": 63,
   "id": "55f35a0a",
   "metadata": {},
   "outputs": [
    {
     "data": {
      "text/html": [
       "<div>\n",
       "<style scoped>\n",
       "    .dataframe tbody tr th:only-of-type {\n",
       "        vertical-align: middle;\n",
       "    }\n",
       "\n",
       "    .dataframe tbody tr th {\n",
       "        vertical-align: top;\n",
       "    }\n",
       "\n",
       "    .dataframe thead th {\n",
       "        text-align: right;\n",
       "    }\n",
       "</style>\n",
       "<table border=\"1\" class=\"dataframe\">\n",
       "  <thead>\n",
       "    <tr style=\"text-align: right;\">\n",
       "      <th></th>\n",
       "      <th>id</th>\n",
       "      <th>text</th>\n",
       "      <th>datetime</th>\n",
       "      <th>intent</th>\n",
       "    </tr>\n",
       "  </thead>\n",
       "  <tbody>\n",
       "    <tr>\n",
       "      <th>0</th>\n",
       "      <td>1212762</td>\n",
       "      <td>[cryptobrody, ecolog, moonrunnersnft, itsukinf...</td>\n",
       "      <td>2022-08-06T16:56:36.000Z</td>\n",
       "      <td>Community</td>\n",
       "    </tr>\n",
       "    <tr>\n",
       "      <th>1</th>\n",
       "      <td>1212763</td>\n",
       "      <td>[need, sick, character, artâ, “art, artist, a...</td>\n",
       "      <td>2022-08-06T16:56:36.000Z</td>\n",
       "      <td>Giveaway</td>\n",
       "    </tr>\n",
       "    <tr>\n",
       "      <th>2</th>\n",
       "      <td>1212765</td>\n",
       "      <td>[thehulknft, inagotchinft, tesla, killabearsnf...</td>\n",
       "      <td>2022-08-06T16:56:35.000Z</td>\n",
       "      <td>Appreciation</td>\n",
       "    </tr>\n",
       "    <tr>\n",
       "      <th>3</th>\n",
       "      <td>1212766</td>\n",
       "      <td>[cryptobatznft, darekbtw, first, project, cryp...</td>\n",
       "      <td>2022-08-06T16:56:35.000Z</td>\n",
       "      <td>Community</td>\n",
       "    </tr>\n",
       "    <tr>\n",
       "      <th>4</th>\n",
       "      <td>1212767</td>\n",
       "      <td>[sashadysonn, first, project, crypto, move, ea...</td>\n",
       "      <td>2022-08-06T16:56:34.000Z</td>\n",
       "      <td>Community</td>\n",
       "    </tr>\n",
       "    <tr>\n",
       "      <th>...</th>\n",
       "      <td>...</td>\n",
       "      <td>...</td>\n",
       "      <td>...</td>\n",
       "      <td>...</td>\n",
       "    </tr>\n",
       "    <tr>\n",
       "      <th>127448</th>\n",
       "      <td>1278721</td>\n",
       "      <td>[jason, company, universe, solving, this, weve...</td>\n",
       "      <td>2022-08-08T03:32:01.000Z</td>\n",
       "      <td>Community</td>\n",
       "    </tr>\n",
       "    <tr>\n",
       "      <th>127449</th>\n",
       "      <td>1278723</td>\n",
       "      <td>[bosotokyo, many, get, rekt, nft]</td>\n",
       "      <td>2022-08-08T03:32:00.000Z</td>\n",
       "      <td>Appreciation</td>\n",
       "    </tr>\n",
       "    <tr>\n",
       "      <th>127450</th>\n",
       "      <td>1278724</td>\n",
       "      <td>[leeneedham, kibainuworld, hodlofficial, koaco...</td>\n",
       "      <td>2022-08-08T03:32:00.000Z</td>\n",
       "      <td>Whitelist</td>\n",
       "    </tr>\n",
       "    <tr>\n",
       "      <th>127451</th>\n",
       "      <td>1278725</td>\n",
       "      <td>[kzro, unleashednft, love, job]</td>\n",
       "      <td>2022-08-08T03:31:59.000Z</td>\n",
       "      <td>Appreciation</td>\n",
       "    </tr>\n",
       "    <tr>\n",
       "      <th>127452</th>\n",
       "      <td>1278729</td>\n",
       "      <td>[shillronin, unleashednft, proof, httpstcodipgz]</td>\n",
       "      <td>2022-08-08T03:31:58.000Z</td>\n",
       "      <td>Done</td>\n",
       "    </tr>\n",
       "  </tbody>\n",
       "</table>\n",
       "<p>127453 rows × 4 columns</p>\n",
       "</div>"
      ],
      "text/plain": [
       "             id                                               text  \\\n",
       "0       1212762  [cryptobrody, ecolog, moonrunnersnft, itsukinf...   \n",
       "1       1212763  [need, sick, character, artâ, “art, artist, a...   \n",
       "2       1212765  [thehulknft, inagotchinft, tesla, killabearsnf...   \n",
       "3       1212766  [cryptobatznft, darekbtw, first, project, cryp...   \n",
       "4       1212767  [sashadysonn, first, project, crypto, move, ea...   \n",
       "...         ...                                                ...   \n",
       "127448  1278721  [jason, company, universe, solving, this, weve...   \n",
       "127449  1278723                  [bosotokyo, many, get, rekt, nft]   \n",
       "127450  1278724  [leeneedham, kibainuworld, hodlofficial, koaco...   \n",
       "127451  1278725                    [kzro, unleashednft, love, job]   \n",
       "127452  1278729   [shillronin, unleashednft, proof, httpstcodipgz]   \n",
       "\n",
       "                        datetime        intent  \n",
       "0       2022-08-06T16:56:36.000Z     Community  \n",
       "1       2022-08-06T16:56:36.000Z      Giveaway  \n",
       "2       2022-08-06T16:56:35.000Z  Appreciation  \n",
       "3       2022-08-06T16:56:35.000Z     Community  \n",
       "4       2022-08-06T16:56:34.000Z     Community  \n",
       "...                          ...           ...  \n",
       "127448  2022-08-08T03:32:01.000Z     Community  \n",
       "127449  2022-08-08T03:32:00.000Z  Appreciation  \n",
       "127450  2022-08-08T03:32:00.000Z     Whitelist  \n",
       "127451  2022-08-08T03:31:59.000Z  Appreciation  \n",
       "127452  2022-08-08T03:31:58.000Z          Done  \n",
       "\n",
       "[127453 rows x 4 columns]"
      ]
     },
     "execution_count": 63,
     "metadata": {},
     "output_type": "execute_result"
    }
   ],
   "source": [
    "final=data2.replace(to_replace=codes,value=values)\n",
    "final"
   ]
  },
  {
   "cell_type": "code",
   "execution_count": 64,
   "id": "4257f362",
   "metadata": {},
   "outputs": [
    {
     "data": {
      "text/plain": [
       "id          0\n",
       "text        0\n",
       "datetime    0\n",
       "intent      0\n",
       "dtype: int64"
      ]
     },
     "execution_count": 64,
     "metadata": {},
     "output_type": "execute_result"
    }
   ],
   "source": [
    "#checking null values \n",
    "final.isnull().sum()"
   ]
  },
  {
   "cell_type": "code",
   "execution_count": 65,
   "id": "fa6bff65",
   "metadata": {},
   "outputs": [
    {
     "data": {
      "text/html": [
       "<div>\n",
       "<style scoped>\n",
       "    .dataframe tbody tr th:only-of-type {\n",
       "        vertical-align: middle;\n",
       "    }\n",
       "\n",
       "    .dataframe tbody tr th {\n",
       "        vertical-align: top;\n",
       "    }\n",
       "\n",
       "    .dataframe thead th {\n",
       "        text-align: right;\n",
       "    }\n",
       "</style>\n",
       "<table border=\"1\" class=\"dataframe\">\n",
       "  <thead>\n",
       "    <tr style=\"text-align: right;\">\n",
       "      <th></th>\n",
       "      <th>id</th>\n",
       "      <th>text</th>\n",
       "      <th>datetime</th>\n",
       "      <th>intent</th>\n",
       "    </tr>\n",
       "  </thead>\n",
       "  <tbody>\n",
       "    <tr>\n",
       "      <th>96364</th>\n",
       "      <td>1212764</td>\n",
       "      <td>[off, ðÿ, §™â€â™‚ï¸, wizardia, nfts, its, pe...</td>\n",
       "      <td>2022-08-06T16:56:35.000Z</td>\n",
       "      <td>Whitelist</td>\n",
       "    </tr>\n",
       "    <tr>\n",
       "      <th>96365</th>\n",
       "      <td>1212770</td>\n",
       "      <td>[asksabir, daolm, dont, miss, chance, win, nft...</td>\n",
       "      <td>2022-08-06T16:56:33.000Z</td>\n",
       "      <td>Giveaway</td>\n",
       "    </tr>\n",
       "    <tr>\n",
       "      <th>96366</th>\n",
       "      <td>1212773</td>\n",
       "      <td>[zesty, faucet, bitcoiner, making, tweet, clai...</td>\n",
       "      <td>2022-08-06T16:56:33.000Z</td>\n",
       "      <td>Whitelist</td>\n",
       "    </tr>\n",
       "    <tr>\n",
       "      <th>96367</th>\n",
       "      <td>1212804</td>\n",
       "      <td>[off, ðÿ, §™â€â™‚ï¸, wizardia, nfts, its, pe...</td>\n",
       "      <td>2022-08-06T16:56:23.000Z</td>\n",
       "      <td>Whitelist</td>\n",
       "    </tr>\n",
       "    <tr>\n",
       "      <th>96368</th>\n",
       "      <td>1212776</td>\n",
       "      <td>[kavaboynft, tanyad, message, me, letâ, €™s, t...</td>\n",
       "      <td>2022-08-06T16:56:32.000Z</td>\n",
       "      <td>Appreciation</td>\n",
       "    </tr>\n",
       "    <tr>\n",
       "      <th>...</th>\n",
       "      <td>...</td>\n",
       "      <td>...</td>\n",
       "      <td>...</td>\n",
       "      <td>...</td>\n",
       "    </tr>\n",
       "    <tr>\n",
       "      <th>127448</th>\n",
       "      <td>1278721</td>\n",
       "      <td>[jason, company, universe, solving, this, weve...</td>\n",
       "      <td>2022-08-08T03:32:01.000Z</td>\n",
       "      <td>Community</td>\n",
       "    </tr>\n",
       "    <tr>\n",
       "      <th>127449</th>\n",
       "      <td>1278723</td>\n",
       "      <td>[bosotokyo, many, get, rekt, nft]</td>\n",
       "      <td>2022-08-08T03:32:00.000Z</td>\n",
       "      <td>Appreciation</td>\n",
       "    </tr>\n",
       "    <tr>\n",
       "      <th>127450</th>\n",
       "      <td>1278724</td>\n",
       "      <td>[leeneedham, kibainuworld, hodlofficial, koaco...</td>\n",
       "      <td>2022-08-08T03:32:00.000Z</td>\n",
       "      <td>Whitelist</td>\n",
       "    </tr>\n",
       "    <tr>\n",
       "      <th>127451</th>\n",
       "      <td>1278725</td>\n",
       "      <td>[kzro, unleashednft, love, job]</td>\n",
       "      <td>2022-08-08T03:31:59.000Z</td>\n",
       "      <td>Appreciation</td>\n",
       "    </tr>\n",
       "    <tr>\n",
       "      <th>127452</th>\n",
       "      <td>1278729</td>\n",
       "      <td>[shillronin, unleashednft, proof, httpstcodipgz]</td>\n",
       "      <td>2022-08-08T03:31:58.000Z</td>\n",
       "      <td>Done</td>\n",
       "    </tr>\n",
       "  </tbody>\n",
       "</table>\n",
       "<p>31089 rows × 4 columns</p>\n",
       "</div>"
      ],
      "text/plain": [
       "             id                                               text  \\\n",
       "96364   1212764  [off, ðÿ, §™â€â™‚ï¸, wizardia, nfts, its, pe...   \n",
       "96365   1212770  [asksabir, daolm, dont, miss, chance, win, nft...   \n",
       "96366   1212773  [zesty, faucet, bitcoiner, making, tweet, clai...   \n",
       "96367   1212804  [off, ðÿ, §™â€â™‚ï¸, wizardia, nfts, its, pe...   \n",
       "96368   1212776  [kavaboynft, tanyad, message, me, letâ, €™s, t...   \n",
       "...         ...                                                ...   \n",
       "127448  1278721  [jason, company, universe, solving, this, weve...   \n",
       "127449  1278723                  [bosotokyo, many, get, rekt, nft]   \n",
       "127450  1278724  [leeneedham, kibainuworld, hodlofficial, koaco...   \n",
       "127451  1278725                    [kzro, unleashednft, love, job]   \n",
       "127452  1278729   [shillronin, unleashednft, proof, httpstcodipgz]   \n",
       "\n",
       "                        datetime        intent  \n",
       "96364   2022-08-06T16:56:35.000Z     Whitelist  \n",
       "96365   2022-08-06T16:56:33.000Z      Giveaway  \n",
       "96366   2022-08-06T16:56:33.000Z     Whitelist  \n",
       "96367   2022-08-06T16:56:23.000Z     Whitelist  \n",
       "96368   2022-08-06T16:56:32.000Z  Appreciation  \n",
       "...                          ...           ...  \n",
       "127448  2022-08-08T03:32:01.000Z     Community  \n",
       "127449  2022-08-08T03:32:00.000Z  Appreciation  \n",
       "127450  2022-08-08T03:32:00.000Z     Whitelist  \n",
       "127451  2022-08-08T03:31:59.000Z  Appreciation  \n",
       "127452  2022-08-08T03:31:58.000Z          Done  \n",
       "\n",
       "[31089 rows x 4 columns]"
      ]
     },
     "execution_count": 65,
     "metadata": {},
     "output_type": "execute_result"
    }
   ],
   "source": [
    "#missing intent is diplayed\n",
    "missing_values=final.iloc[96364:]\n",
    "missing_values"
   ]
  }
 ],
 "metadata": {
  "kernelspec": {
   "display_name": "Python 3 (ipykernel)",
   "language": "python",
   "name": "python3"
  },
  "language_info": {
   "codemirror_mode": {
    "name": "ipython",
    "version": 3
   },
   "file_extension": ".py",
   "mimetype": "text/x-python",
   "name": "python",
   "nbconvert_exporter": "python",
   "pygments_lexer": "ipython3",
   "version": "3.9.12"
  }
 },
 "nbformat": 4,
 "nbformat_minor": 5
}
